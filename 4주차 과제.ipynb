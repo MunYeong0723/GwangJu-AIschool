{
  "nbformat": 4,
  "nbformat_minor": 0,
  "metadata": {
    "colab": {
      "name": "4주차 과제.ipynb",
      "provenance": [],
      "collapsed_sections": [],
      "include_colab_link": true
    },
    "kernelspec": {
      "name": "python3",
      "display_name": "Python 3"
    }
  },
  "cells": [
    {
      "cell_type": "markdown",
      "metadata": {
        "id": "view-in-github",
        "colab_type": "text"
      },
      "source": [
        "<a href=\"https://colab.research.google.com/github/MunYeong0723/GwangJu-AIschool/blob/master/4%EC%A3%BC%EC%B0%A8%20%EA%B3%BC%EC%A0%9C.ipynb\" target=\"_parent\"><img src=\"https://colab.research.google.com/assets/colab-badge.svg\" alt=\"Open In Colab\"/></a>"
      ]
    },
    {
      "cell_type": "markdown",
      "metadata": {
        "id": "wxkL6PjwsI6L",
        "colab_type": "text"
      },
      "source": [
        "# 4주차 과제\n",
        "- 용어 정리\n",
        "- 딥러닝 강의 클론 코딩\n",
        "- 딥러닝 순전파 & 역전파 계산"
      ]
    },
    {
      "cell_type": "markdown",
      "metadata": {
        "id": "ixEtDe6_uGgI",
        "colab_type": "text"
      },
      "source": [
        "## 1. 용어 정리\n",
        "\n",
        "다음 제시된 단어의 정의(설명)를 정리하여 작성 하세요.\n",
        "\n",
        "* 2문장 이상 작성 해 주세요. \n",
        "* 주제(단어)와 크게 벗어나지만 않는다면 정답처리 됩니다.\n",
        "* 강의 뿐 아니라 기타 레퍼런스를 참고하여 작성하셔도 됩니다. (기타 레퍼런스를 참고하신 경우, 해당 레퍼런스를 정리하여 하단에 작성해 주세요.)\n"
      ]
    },
    {
      "cell_type": "markdown",
      "metadata": {
        "id": "0lfwat8eurKZ",
        "colab_type": "text"
      },
      "source": [
        "__(예시)__\n",
        "### 심층 신경망\n",
        ": 입력층과 출력층 사이에 여러 개의 은닉층들로 이뤄진 인공신경망이다. 심층 신경망은 일반적으로 인공신경망과 마찬가지로 복잡한 비선형 관계들을 모델링 할 수 있다. 신층신경망의 목적은 분류 및 수치예측을 하기 위함이고 이미지 트레이닝이나 문자인식과 같은 분야에서 매우 유용하게 쓰이고 있다."
      ]
    },
    {
      "cell_type": "markdown",
      "metadata": {
        "id": "Y8YJNKG_v65A",
        "colab_type": "text"
      },
      "source": [
        "### MCP 뉴런\n",
        ": 1943년 워랜 맥컬록과 윌터 피츠가 발표한 간소화된 뇌의 뉴런 개념이다. 뉴런들은 뇌의 신경세포와 서로 연결되어 있으며 화학적, 전기적 신호를 처리하고 전달하는데 관여한다. 맥컬록과 윌터 피츠는 이러한 신경세포를 이진 출력을 내는 간단한 논리 회로로 표현하였다.\n",
        "\n",
        "### 퍼셉트론\n",
        ": 퍼셉트론은 MCP 뉴런 모델을 기반으로 만들어진 학습 개념이다. 퍼셉트론의 규칙은 자동으로 최적의 가중치를 학습한다는 것이다. <br>\n",
        "퍼셉트론을 간단하게 표현해보면 입력값에 가중치를 곱하여 모두 더한 후 활성화 함수에 넣어 출력을 반환하는 구조로 나타낼 수 있다. 이 때, 활성화함수는 출력값을 정하는 것이고, 가중치는 처음에 초기화를 통해 무작위 값을 넣고, 학습과정에서 일정한 값으로 수렴하게 된다. 퍼셉트론에서 학습이 잘된다는 것은, 좋은 가중치를 얻어 원하는 값에 점점 가까워진다는 것을 의미한다.\n",
        "\n",
        "### 역전파\n",
        ": 퍼셉트론은 XOR 문제와 같이 선형적으로 분리되지 않는 문제에서는 수렴할 수 없다는 문제점이 있다. 이를 해결하기 위해 다층 perceptron과 역전파 알고리즘 개념이 등장하였다. 역전파는 선형 출력값과 지도 데이터 사이에 생기는 '오차'를 이용해 출력층에서 입력층 쪽으로 가중치를 조정하는 알고리즘이다. 역전파는 경사하강법을 이용하는 것이기도 하기 때문에 역방향 미분이라고도 한다. <br>\n",
        "역전파 알고리즘을 이용하여 최종 출력을 결정하는데 있어 합리적인 선택이 가능했다. 하지만 출력된 값들이 항상 너무 작은 값을 가지고 있을 때, 신경망이 깊어질수록 오차의 기울기는 점차 작아지며, 끝으로 가는 도중 기울기가 소실돼버리면서 가중치를 조절할 수 없어 학습이 잘 되지 않는 기울기 소멸 문제가 생길 수도 있어 역전파 알고리즘이 완전한 해결책이라고 할 수는 없다.\n",
        "\n",
        "### 강화학습\n",
        ": 강화학습은 보상을 최대화하는 의사결정전략으로, 순차적인 행동들을 알아나가는 방법이다. 학습 방법은 agent라는 존재가 환경과 상호작용하며, 이 환경에는 보상이라는 기준이 있어서 다양한 시행착오를 겪어가며 보상을 최대화하는 방향으로 학습을 진행하는 것이다. 강화학습은 다양한 시행착오를 통해 학습이 가능하며, 비교적 명확한 보상을 설정할 수 있는 문제를 해결하는 데 사용되고 있다.\n",
        "\n",
        "### 과적합\n",
        ": 과적합은 학습데이터를 과하게 잘 학습하는 것을 뜻한다. 즉, 학습 데이터에 대해 과하게 학습하여 실제 데이터에 대한 오차가 증가하는 현상이다. 과적합은 머신 러닝 알고리즘의 오차를 증가시키는 원인이기 때문에 여러 가지 해결방법이 존재하지만 완전한 해결은 어렵다. <br>\n",
        "[참고 링크](https://untitledtblog.tistory.com/68)\n",
        "\n",
        "\n",
        "### 차원의 저주\n",
        ": 차원의 저주는 고정된 크기의 학습데이터셋 차원이 학습을 위해 차원이 늘어남에 따라(= 변수의 수가 증가) 학습데이터 수가 차원의 수보다 적어져 성능이 저하되는 현상이다. 즉, 차원이 증가함에 따라 빈 공간이 생기는 것을 차원의 저주라고 한다.<br>\n",
        "차원의 저주 문제에 치명적인 알고리즘이 KNN(K-Nearst Neighbor, K-최근접 이웃)이다. KNN 알고리즘은 자신과 가장 가까운 이웃 K개를 보고 label을 정하게 되는데, 차원이 커질수록 주변 이웃이 점점 멀어지기 때문에 차원의 저주 문제가 발생한다. 이를 해결하기 위해 올바른 변수를 선택하거나 차원 축소기법 등을 사용한다. <br>\n",
        "[참고 링크](https://datapedia.tistory.com/15)\n"
      ]
    },
    {
      "cell_type": "markdown",
      "metadata": {
        "id": "d-zfFXLCy6jD",
        "colab_type": "text"
      },
      "source": [
        "## 2. 딥러닝 강의 클론 코딩\n",
        "\n",
        "####__퍼셉트론 구조 구현하기__ \n",
        "딥러닝 강의(__딥러닝 원리[1] 3:15 ~ 5:15 부분__)를 보고 코드를 따라 치며 출력 결과를 만드세요.\n",
        " \n",
        "\n",
        "* 하나의 코드셀에 해당 코드를 한번에 다 적어서 실행해주세요 (__그렇게 하지 않을 경우, 아래 이미지와 같은 출력값이 나오지 않을 수 있습니다__)\n",
        "\n",
        "*__주의!__ 실제로 코딩해서 출력해보면 강의에 나온 출력 결과와 다르게 나옵니다!!\n"
      ]
    },
    {
      "cell_type": "code",
      "metadata": {
        "id": "0ay4vtFBttgF",
        "colab_type": "code",
        "outputId": "2a0b665d-9cb1-426f-f4c5-674338da085a",
        "colab": {
          "base_uri": "https://localhost:8080/",
          "height": 223
        }
      },
      "source": [
        "import tensorflow as tf\n",
        "tf.compat.v1.set_random_seed(2020)\n",
        "x = 1\n",
        "y = 0\n",
        "w = tf.random.normal([1],0,1)\n",
        "\n",
        "import math\n",
        "def sigmoid(x):\n",
        "  return 1/(1+math.exp(-x))\n",
        "\n",
        "output = sigmoid(x*w)\n",
        "print(output)\n",
        "\n",
        "for i in range(1000):\n",
        "  output = sigmoid(x*w)\n",
        "  error = y-output\n",
        "  w = w + x*0.1*error\n",
        "\n",
        "  if i % 100 == 99:\n",
        "    print(\"학습 횟수:\",i,\"Error:\",error,\"예측 결과:\",output)"
      ],
      "execution_count": 0,
      "outputs": [
        {
          "output_type": "stream",
          "text": [
            "0.47477188589261\n",
            "학습 횟수: 99 Error: -0.10010598284299604 예측 결과: 0.10010598284299604\n",
            "학습 횟수: 199 Error: -0.05178399422833116 예측 결과: 0.05178399422833116\n",
            "학습 횟수: 299 Error: -0.034590451977903586 예측 결과: 0.034590451977903586\n",
            "학습 횟수: 399 Error: -0.02588962752851373 예측 결과: 0.02588962752851373\n",
            "학습 횟수: 499 Error: -0.020658699939863617 예측 결과: 0.020658699939863617\n",
            "학습 횟수: 599 Error: -0.017174253993457355 예측 결과: 0.017174253993457355\n",
            "학습 횟수: 699 Error: -0.014689506449480992 예측 결과: 0.014689506449480992\n",
            "학습 횟수: 799 Error: -0.012829497265431342 예측 결과: 0.012829497265431342\n",
            "학습 횟수: 899 Error: -0.011385568271837804 예측 결과: 0.011385568271837804\n",
            "학습 횟수: 999 Error: -0.010232493309882492 예측 결과: 0.010232493309882492\n"
          ],
          "name": "stdout"
        }
      ]
    },
    {
      "cell_type": "markdown",
      "metadata": {
        "id": "wcc5mzI9oZ7r",
        "colab_type": "text"
      },
      "source": [
        "![대체 텍스트](https://www.notion.so/image/https%3A%2F%2Fs3-us-west-2.amazonaws.com%2Fsecure.notion-static.com%2F0cceeed0-0235-4b0f-af88-0b8c377d5b4b%2F_2020-06-09__9.35.23.png?table=block&id=88fd8912-9356-49a4-9fda-a1a63fe96ea9&width=2870&cache=v2)"
      ]
    },
    {
      "cell_type": "markdown",
      "metadata": {
        "id": "kr0HVRk8fOom",
        "colab_type": "text"
      },
      "source": [
        "## 3. 딥러닝 순전파 & 역전파 계산\n",
        "\n",
        "딥러닝 강의(__딥러닝 원리[2] 0:55 ~ 4:32 부분__)에 나오는 순전파 & 역전파 계산에 대한 문제 입니다.\n",
        "\n",
        "해당 영상과 다음 이미지를 참고하여 다음 2가지 물음에 답하세요.\n",
        "\n",
        "\n",
        "(1) 학습률이 0.2 일 경우 출력층의 노드값\n",
        "\n",
        "(2) 학습률이 0.1과 0.2 중 기대출력값이 지도데이터 \"3\"과 더 가까운 학습률은?"
      ]
    },
    {
      "cell_type": "markdown",
      "metadata": {
        "id": "CpwPFWhOUzww",
        "colab_type": "text"
      },
      "source": [
        "![대체 텍스트](https://www.notion.so/image/https%3A%2F%2Fs3-us-west-2.amazonaws.com%2Fsecure.notion-static.com%2Ff54dfd45-92ec-44ae-9616-6949d2484a45%2F_2020-06-10__5.22.03.png?table=block&id=ee05da89-3ceb-4ad9-a2d3-c9f68d24d1d9&width=3580&cache=v2)"
      ]
    },
    {
      "cell_type": "markdown",
      "metadata": {
        "id": "B2OVY7w5U3CI",
        "colab_type": "text"
      },
      "source": [
        "## (1) 학습률이 0.2 일 경우 출력층의 노드값 : 1.6\n",
        "## (2) 학습률이 0.1과 0.2 중 기대출력값이 지도데이터 \"3\"과 더 가까운 학습률은? : 0.1"
      ]
    }
  ]
}