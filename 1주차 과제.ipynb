{
  "nbformat": 4,
  "nbformat_minor": 0,
  "metadata": {
    "colab": {
      "name": "Untitled0.ipynb",
      "provenance": [],
      "authorship_tag": "ABX9TyMUEcir0cEpGDkG3ubN2Uc2",
      "include_colab_link": true
    },
    "kernelspec": {
      "name": "python3",
      "display_name": "Python 3"
    }
  },
  "cells": [
    {
      "cell_type": "markdown",
      "metadata": {
        "id": "view-in-github",
        "colab_type": "text"
      },
      "source": [
        "<a href=\"https://colab.research.google.com/github/MunYeong0723/GwangJu-AIschool/blob/master/1%EC%A3%BC%EC%B0%A8%20%EA%B3%BC%EC%A0%9C.ipynb\" target=\"_parent\"><img src=\"https://colab.research.google.com/assets/colab-badge.svg\" alt=\"Open In Colab\"/></a>"
      ]
    },
    {
      "cell_type": "markdown",
      "metadata": {
        "id": "XW4lhzhmtnPX",
        "colab_type": "text"
      },
      "source": [
        "# 1주차 과제\n",
        "\n",
        "## 언어\n",
        "-> 언어 분야의 대표적인 인공지능 서비스로는 구글 번역기와 네이버 파파고가 있다. 두 서비스 모두 NMT 즉, 신경망 기계 번역 기술을 이용하여, 보다 자연스러운 번역 결과를 제공하고 있다. <br>\n",
        "\n",
        "* NMT(Neural Machine Translation) <br>\n",
        "Neural Machine Translation(인공신경망 기계 번역, NMT)는 인공신경망이라고 하는 커다란 가상 공간을 통해 문장을 이해하고 번역한다. 번역을 하기 위해 입력한 문장은 인공신경망 가상 공간의 특정 지점을 의미하는 좌표 값으로 바뀌어 저장된다. 유사한 뜻을 가진 문장은 서로 가깝게 모여있게 되는데, NMT는 입력된 문장 주변에 있는 정보들을 참고하여 문장의 맥락을 이해하여 보다 자연스러운 번역 결과를 만들게 된다. <br>\n",
        "더 나아가, 전통적인 통계적 기계 번역(SMT)과는 달리 NMT 모델의 모든 부분은 합동하여 훈련을 받음으로써 번역 성능을 극대화한다.<br>\n",
        "\n",
        "* SMT(Statistical machine translation) <br>\n",
        "통계적 기계 번역(Statistical machine translation, SMT)은 확률을 이용해서 번역하는 기계 번역 방법으로, 파라미터들이 2개 언어 말뭉치의 분석에서 비롯된 통계 모델에 기초하여 번역이 생성된다. \n",
        "\n",
        "\n",
        "## 음성\n",
        "\n",
        "## 이미지\n",
        "\n",
        "## 자율주행"
      ]
    }
  ]
}